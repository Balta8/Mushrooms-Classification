{
 "cells": [
  {
   "cell_type": "markdown",
   "metadata": {},
   "source": [
    "In this notebook, we aim to classify mushrooms as either edible or poisonous using machine learning. The dataset contains various mushroom characteristics, such as cap shape, gill color, and habitat. We preprocess the data through several key steps:\n",
    "\n",
    "*Handling missing values.\n",
    "*Encoding categorical features.\n",
    "*Normalizing numerical columns.\n",
    "*Detecting and addressing duplicates to ensure data integrity."
   ]
  },
  {
   "cell_type": "code",
   "execution_count": 1,
   "metadata": {},
   "outputs": [],
   "source": [
    "# importing packages\n",
    "import numpy as np\n",
    "import matplotlib.pyplot as plt\n",
    "import pandas as pd\n",
    "import seaborn as sns\n",
    "from sklearn.model_selection import train_test_split\n",
    "from sklearn.naive_bayes import GaussianNB\n",
    "from sklearn import tree\n",
    "from sklearn.neighbors import KNeighborsClassifier\n",
    "from sklearn.svm import SVC\n",
    "from sklearn.linear_model import LogisticRegression\n",
    "from sklearn.ensemble import RandomForestClassifier\n",
    "from sklearn.metrics import accuracy_score, recall_score, precision_score, f1_score, confusion_matrix\n",
    "from sklearn.preprocessing import LabelEncoder\n",
    "import xgboost as xgb\n",
    "from xgboost import XGBRegressor\n",
    "import warnings\n",
    "from sklearn.tree import DecisionTreeClassifier\n",
    "from sklearn.metrics import classification_report\n",
    "warnings.filterwarnings(\"ignore\", category=DeprecationWarning)\n",
    "warnings.filterwarnings(\"ignore\", category=FutureWarning)"
   ]
  },
  {
   "cell_type": "markdown",
   "metadata": {},
   "source": [
    "load the datasets"
   ]
  },
  {
   "cell_type": "code",
   "execution_count": 2,
   "metadata": {},
   "outputs": [],
   "source": [
    "# Load the dataset\n",
    "df_1 = pd.read_csv(r\"Mushrom_Xtrain.csv\")\n",
    "df_2 = pd.read_csv(r\"Mushrom_y_train.csv\")"
   ]
  },
  {
   "cell_type": "code",
   "execution_count": 3,
   "metadata": {},
   "outputs": [
    {
     "data": {
      "text/html": [
       "<div>\n",
       "<style scoped>\n",
       "    .dataframe tbody tr th:only-of-type {\n",
       "        vertical-align: middle;\n",
       "    }\n",
       "\n",
       "    .dataframe tbody tr th {\n",
       "        vertical-align: top;\n",
       "    }\n",
       "\n",
       "    .dataframe thead th {\n",
       "        text-align: right;\n",
       "    }\n",
       "</style>\n",
       "<table border=\"1\" class=\"dataframe\">\n",
       "  <thead>\n",
       "    <tr style=\"text-align: right;\">\n",
       "      <th></th>\n",
       "      <th>Unnamed: 0</th>\n",
       "      <th>cap-diameter</th>\n",
       "      <th>cap-shape</th>\n",
       "      <th>cap-surface</th>\n",
       "      <th>cap-color</th>\n",
       "      <th>does-bruise-or-bleed</th>\n",
       "      <th>gill-attachment</th>\n",
       "      <th>gill-spacing</th>\n",
       "      <th>gill-color</th>\n",
       "      <th>stem-height</th>\n",
       "      <th>...</th>\n",
       "      <th>stem-root</th>\n",
       "      <th>stem-surface</th>\n",
       "      <th>stem-color</th>\n",
       "      <th>veil-type</th>\n",
       "      <th>veil-color</th>\n",
       "      <th>has-ring</th>\n",
       "      <th>ring-type</th>\n",
       "      <th>spore-print-color</th>\n",
       "      <th>habitat</th>\n",
       "      <th>season</th>\n",
       "    </tr>\n",
       "  </thead>\n",
       "  <tbody>\n",
       "    <tr>\n",
       "      <th>0</th>\n",
       "      <td>10386</td>\n",
       "      <td>4.13</td>\n",
       "      <td>f</td>\n",
       "      <td>g</td>\n",
       "      <td>g</td>\n",
       "      <td>f</td>\n",
       "      <td>a</td>\n",
       "      <td>d</td>\n",
       "      <td>g</td>\n",
       "      <td>5.15</td>\n",
       "      <td>...</td>\n",
       "      <td>NaN</td>\n",
       "      <td>s</td>\n",
       "      <td>g</td>\n",
       "      <td>NaN</td>\n",
       "      <td>NaN</td>\n",
       "      <td>f</td>\n",
       "      <td>f</td>\n",
       "      <td>NaN</td>\n",
       "      <td>d</td>\n",
       "      <td>a</td>\n",
       "    </tr>\n",
       "    <tr>\n",
       "      <th>1</th>\n",
       "      <td>13007</td>\n",
       "      <td>0.72</td>\n",
       "      <td>x</td>\n",
       "      <td>g</td>\n",
       "      <td>o</td>\n",
       "      <td>f</td>\n",
       "      <td>NaN</td>\n",
       "      <td>NaN</td>\n",
       "      <td>y</td>\n",
       "      <td>3.86</td>\n",
       "      <td>...</td>\n",
       "      <td>NaN</td>\n",
       "      <td>NaN</td>\n",
       "      <td>w</td>\n",
       "      <td>NaN</td>\n",
       "      <td>NaN</td>\n",
       "      <td>f</td>\n",
       "      <td>f</td>\n",
       "      <td>NaN</td>\n",
       "      <td>d</td>\n",
       "      <td>u</td>\n",
       "    </tr>\n",
       "    <tr>\n",
       "      <th>2</th>\n",
       "      <td>30547</td>\n",
       "      <td>8.03</td>\n",
       "      <td>s</td>\n",
       "      <td>t</td>\n",
       "      <td>p</td>\n",
       "      <td>t</td>\n",
       "      <td>d</td>\n",
       "      <td>c</td>\n",
       "      <td>o</td>\n",
       "      <td>5.27</td>\n",
       "      <td>...</td>\n",
       "      <td>NaN</td>\n",
       "      <td>NaN</td>\n",
       "      <td>w</td>\n",
       "      <td>NaN</td>\n",
       "      <td>NaN</td>\n",
       "      <td>f</td>\n",
       "      <td>f</td>\n",
       "      <td>NaN</td>\n",
       "      <td>d</td>\n",
       "      <td>u</td>\n",
       "    </tr>\n",
       "    <tr>\n",
       "      <th>3</th>\n",
       "      <td>55682</td>\n",
       "      <td>9.67</td>\n",
       "      <td>f</td>\n",
       "      <td>NaN</td>\n",
       "      <td>l</td>\n",
       "      <td>f</td>\n",
       "      <td>d</td>\n",
       "      <td>c</td>\n",
       "      <td>w</td>\n",
       "      <td>2.64</td>\n",
       "      <td>...</td>\n",
       "      <td>NaN</td>\n",
       "      <td>NaN</td>\n",
       "      <td>w</td>\n",
       "      <td>NaN</td>\n",
       "      <td>NaN</td>\n",
       "      <td>f</td>\n",
       "      <td>f</td>\n",
       "      <td>NaN</td>\n",
       "      <td>d</td>\n",
       "      <td>a</td>\n",
       "    </tr>\n",
       "    <tr>\n",
       "      <th>4</th>\n",
       "      <td>13481</td>\n",
       "      <td>1.43</td>\n",
       "      <td>x</td>\n",
       "      <td>g</td>\n",
       "      <td>n</td>\n",
       "      <td>f</td>\n",
       "      <td>d</td>\n",
       "      <td>d</td>\n",
       "      <td>n</td>\n",
       "      <td>2.53</td>\n",
       "      <td>...</td>\n",
       "      <td>NaN</td>\n",
       "      <td>s</td>\n",
       "      <td>n</td>\n",
       "      <td>NaN</td>\n",
       "      <td>NaN</td>\n",
       "      <td>f</td>\n",
       "      <td>f</td>\n",
       "      <td>NaN</td>\n",
       "      <td>d</td>\n",
       "      <td>a</td>\n",
       "    </tr>\n",
       "  </tbody>\n",
       "</table>\n",
       "<p>5 rows × 21 columns</p>\n",
       "</div>"
      ],
      "text/plain": [
       "   Unnamed: 0  cap-diameter cap-shape cap-surface cap-color  \\\n",
       "0       10386          4.13         f           g         g   \n",
       "1       13007          0.72         x           g         o   \n",
       "2       30547          8.03         s           t         p   \n",
       "3       55682          9.67         f         NaN         l   \n",
       "4       13481          1.43         x           g         n   \n",
       "\n",
       "  does-bruise-or-bleed gill-attachment gill-spacing gill-color  stem-height  \\\n",
       "0                    f               a            d          g         5.15   \n",
       "1                    f             NaN          NaN          y         3.86   \n",
       "2                    t               d            c          o         5.27   \n",
       "3                    f               d            c          w         2.64   \n",
       "4                    f               d            d          n         2.53   \n",
       "\n",
       "   ...  stem-root stem-surface stem-color veil-type veil-color has-ring  \\\n",
       "0  ...        NaN            s          g       NaN        NaN        f   \n",
       "1  ...        NaN          NaN          w       NaN        NaN        f   \n",
       "2  ...        NaN          NaN          w       NaN        NaN        f   \n",
       "3  ...        NaN          NaN          w       NaN        NaN        f   \n",
       "4  ...        NaN            s          n       NaN        NaN        f   \n",
       "\n",
       "  ring-type spore-print-color habitat season  \n",
       "0         f               NaN       d      a  \n",
       "1         f               NaN       d      u  \n",
       "2         f               NaN       d      u  \n",
       "3         f               NaN       d      a  \n",
       "4         f               NaN       d      a  \n",
       "\n",
       "[5 rows x 21 columns]"
      ]
     },
     "execution_count": 3,
     "metadata": {},
     "output_type": "execute_result"
    }
   ],
   "source": [
    "df = pd.concat([df_1, df_2], axis=1)\n",
    "df.head()\n",
    "test=pd.read_csv(\"Mushrom_X_test.csv\")\n",
    "test.head()"
   ]
  },
  {
   "cell_type": "code",
   "execution_count": 4,
   "metadata": {},
   "outputs": [
    {
     "name": "stdout",
     "output_type": "stream",
     "text": [
      "<class 'pandas.core.frame.DataFrame'>\n",
      "RangeIndex: 45801 entries, 0 to 45800\n",
      "Data columns (total 23 columns):\n",
      " #   Column                Non-Null Count  Dtype  \n",
      "---  ------                --------------  -----  \n",
      " 0   Unnamed: 0            45801 non-null  int64  \n",
      " 1   cap-diameter          45801 non-null  float64\n",
      " 2   cap-shape             45801 non-null  object \n",
      " 3   cap-surface           35242 non-null  object \n",
      " 4   cap-color             45801 non-null  object \n",
      " 5   does-bruise-or-bleed  45801 non-null  object \n",
      " 6   gill-attachment       38386 non-null  object \n",
      " 7   gill-spacing          27094 non-null  object \n",
      " 8   gill-color            45801 non-null  object \n",
      " 9   stem-height           45801 non-null  float64\n",
      " 10  stem-width            45801 non-null  float64\n",
      " 11  stem-root             7213 non-null   object \n",
      " 12  stem-surface          17211 non-null  object \n",
      " 13  stem-color            45801 non-null  object \n",
      " 14  veil-type             2389 non-null   object \n",
      " 15  veil-color            5550 non-null   object \n",
      " 16  has-ring              45801 non-null  object \n",
      " 17  ring-type             43955 non-null  object \n",
      " 18  spore-print-color     4810 non-null   object \n",
      " 19  habitat               45801 non-null  object \n",
      " 20  season                45801 non-null  object \n",
      " 21  Unnamed: 0            45801 non-null  int64  \n",
      " 22  class                 45801 non-null  object \n",
      "dtypes: float64(3), int64(2), object(18)\n",
      "memory usage: 8.0+ MB\n",
      "None\n"
     ]
    }
   ],
   "source": [
    "# Get a summary of the dataset\n",
    "print(df.info())"
   ]
  },
  {
   "cell_type": "code",
   "execution_count": 5,
   "metadata": {},
   "outputs": [
    {
     "name": "stdout",
     "output_type": "stream",
     "text": [
      "         Unnamed: 0  cap-diameter   stem-height    stem-width    Unnamed: 0\n",
      "count  45801.000000  45801.000000  45801.000000  45801.000000  45801.000000\n",
      "mean   30510.889042      6.725566      6.578173     12.132931  30510.889042\n",
      "std    17643.032905      5.222117      3.364258      9.986819  17643.032905\n",
      "min        0.000000      0.380000      0.000000      0.000000      0.000000\n",
      "25%    15216.000000      3.490000      4.650000      5.190000  15216.000000\n",
      "50%    30517.000000      5.860000      5.960000     10.190000  30517.000000\n",
      "75%    45833.000000      8.540000      7.730000     16.560000  45833.000000\n",
      "max    61066.000000     62.340000     33.920000    103.910000  61066.000000\n"
     ]
    }
   ],
   "source": [
    "# Summary statistics for numerical columns\n",
    "print(df.describe())"
   ]
  },
  {
   "cell_type": "markdown",
   "metadata": {},
   "source": [
    "Check for the missing values"
   ]
  },
  {
   "cell_type": "code",
   "execution_count": 6,
   "metadata": {},
   "outputs": [
    {
     "data": {
      "text/plain": [
       "Unnamed: 0                  0\n",
       "cap-diameter                0\n",
       "cap-shape                   0\n",
       "cap-surface             10559\n",
       "cap-color                   0\n",
       "does-bruise-or-bleed        0\n",
       "gill-attachment          7415\n",
       "gill-spacing            18707\n",
       "gill-color                  0\n",
       "stem-height                 0\n",
       "stem-width                  0\n",
       "stem-root               38588\n",
       "stem-surface            28590\n",
       "stem-color                  0\n",
       "veil-type               43412\n",
       "veil-color              40251\n",
       "has-ring                    0\n",
       "ring-type                1846\n",
       "spore-print-color       40991\n",
       "habitat                     0\n",
       "season                      0\n",
       "Unnamed: 0                  0\n",
       "class                       0\n",
       "dtype: int64"
      ]
     },
     "execution_count": 6,
     "metadata": {},
     "output_type": "execute_result"
    }
   ],
   "source": [
    "df.isnull().sum()"
   ]
  },
  {
   "cell_type": "code",
   "execution_count": 7,
   "metadata": {},
   "outputs": [
    {
     "data": {
      "text/plain": [
       "Unnamed: 0                  0\n",
       "cap-diameter                0\n",
       "cap-shape                   0\n",
       "cap-surface              3561\n",
       "cap-color                   0\n",
       "does-bruise-or-bleed        0\n",
       "gill-attachment          2469\n",
       "gill-spacing             6356\n",
       "gill-color                  0\n",
       "stem-height                 0\n",
       "stem-width                  0\n",
       "stem-root               12950\n",
       "stem-surface             9534\n",
       "stem-color                  0\n",
       "veil-type               14480\n",
       "veil-color              13405\n",
       "has-ring                    0\n",
       "ring-type                 625\n",
       "spore-print-color       13724\n",
       "habitat                     0\n",
       "season                      0\n",
       "dtype: int64"
      ]
     },
     "execution_count": 7,
     "metadata": {},
     "output_type": "execute_result"
    }
   ],
   "source": [
    "test.isnull().sum()"
   ]
  },
  {
   "cell_type": "code",
   "execution_count": 8,
   "metadata": {},
   "outputs": [
    {
     "data": {
      "text/plain": [
       "Index(['Unnamed: 0', 'cap-diameter', 'cap-shape', 'cap-surface', 'cap-color',\n",
       "       'does-bruise-or-bleed', 'gill-attachment', 'gill-spacing', 'gill-color',\n",
       "       'stem-height', 'stem-width', 'stem-root', 'stem-surface', 'stem-color',\n",
       "       'veil-type', 'veil-color', 'has-ring', 'ring-type', 'spore-print-color',\n",
       "       'habitat', 'season', 'Unnamed: 0', 'class'],\n",
       "      dtype='object')"
      ]
     },
     "execution_count": 8,
     "metadata": {},
     "output_type": "execute_result"
    }
   ],
   "source": [
    "df.columns"
   ]
  },
  {
   "cell_type": "code",
   "execution_count": 9,
   "metadata": {},
   "outputs": [],
   "source": [
    "df.drop(\n",
    "    columns=[\n",
    "        \"Unnamed: 0\",\n",
    "    ],\n",
    "    inplace=True,\n",
    ")"
   ]
  },
  {
   "cell_type": "code",
   "execution_count": 10,
   "metadata": {},
   "outputs": [],
   "source": [
    "test.drop(\n",
    "    columns=[\n",
    "        \"Unnamed: 0\",\n",
    "    ],\n",
    "    inplace=True,\n",
    ")"
   ]
  },
  {
   "cell_type": "code",
   "execution_count": 11,
   "metadata": {},
   "outputs": [
    {
     "name": "stdout",
     "output_type": "stream",
     "text": [
      "<class 'pandas.core.frame.DataFrame'>\n",
      "RangeIndex: 45801 entries, 0 to 45800\n",
      "Data columns (total 21 columns):\n",
      " #   Column                Non-Null Count  Dtype  \n",
      "---  ------                --------------  -----  \n",
      " 0   cap-diameter          45801 non-null  float64\n",
      " 1   cap-shape             45801 non-null  object \n",
      " 2   cap-surface           35242 non-null  object \n",
      " 3   cap-color             45801 non-null  object \n",
      " 4   does-bruise-or-bleed  45801 non-null  object \n",
      " 5   gill-attachment       38386 non-null  object \n",
      " 6   gill-spacing          27094 non-null  object \n",
      " 7   gill-color            45801 non-null  object \n",
      " 8   stem-height           45801 non-null  float64\n",
      " 9   stem-width            45801 non-null  float64\n",
      " 10  stem-root             7213 non-null   object \n",
      " 11  stem-surface          17211 non-null  object \n",
      " 12  stem-color            45801 non-null  object \n",
      " 13  veil-type             2389 non-null   object \n",
      " 14  veil-color            5550 non-null   object \n",
      " 15  has-ring              45801 non-null  object \n",
      " 16  ring-type             43955 non-null  object \n",
      " 17  spore-print-color     4810 non-null   object \n",
      " 18  habitat               45801 non-null  object \n",
      " 19  season                45801 non-null  object \n",
      " 20  class                 45801 non-null  object \n",
      "dtypes: float64(3), object(18)\n",
      "memory usage: 7.3+ MB\n"
     ]
    }
   ],
   "source": [
    "df.info()"
   ]
  },
  {
   "cell_type": "code",
   "execution_count": 12,
   "metadata": {},
   "outputs": [
    {
     "data": {
      "text/plain": [
       "gill-attachment\n",
       "a    3219\n",
       "d    2553\n",
       "x    1875\n",
       "p    1482\n",
       "e    1406\n",
       "s    1382\n",
       "f     882\n",
       "Name: count, dtype: int64"
      ]
     },
     "execution_count": 12,
     "metadata": {},
     "output_type": "execute_result"
    }
   ],
   "source": [
    "df[\"gill-attachment\"].value_counts()\n",
    "test[\"gill-attachment\"].value_counts()"
   ]
  },
  {
   "cell_type": "code",
   "execution_count": 13,
   "metadata": {},
   "outputs": [
    {
     "data": {
      "text/plain": [
       "ring-type\n",
       "f    12061\n",
       "e      610\n",
       "z      557\n",
       "l      374\n",
       "r      344\n",
       "p      311\n",
       "g      297\n",
       "m       89\n",
       "Name: count, dtype: int64"
      ]
     },
     "execution_count": 13,
     "metadata": {},
     "output_type": "execute_result"
    }
   ],
   "source": [
    "df[\"ring-type\"].value_counts()\n",
    "test[\"ring-type\"].value_counts()"
   ]
  },
  {
   "cell_type": "markdown",
   "metadata": {},
   "source": [
    "input missing values"
   ]
  },
  {
   "cell_type": "code",
   "execution_count": 14,
   "metadata": {},
   "outputs": [],
   "source": [
    "mode_value_gill = df[\"gill-attachment\"].mode()[0]\n",
    "df[\"gill-attachment\"].fillna(mode_value_gill, inplace=True)\n",
    "\n",
    "mode_value_gill = test[\"gill-attachment\"].mode()[0]\n",
    "test[\"gill-attachment\"].fillna(mode_value_gill, inplace=True)"
   ]
  },
  {
   "cell_type": "code",
   "execution_count": 15,
   "metadata": {},
   "outputs": [],
   "source": [
    "mode_value_cap = df[\"cap-surface\"].mode()[0]\n",
    "df[\"cap-surface\"].fillna(mode_value_cap, inplace=True)\n",
    "\n",
    "mode_value_cap = test[\"cap-surface\"].mode()[0]\n",
    "test[\"cap-surface\"].fillna(mode_value_cap, inplace=True)"
   ]
  },
  {
   "cell_type": "code",
   "execution_count": 16,
   "metadata": {},
   "outputs": [],
   "source": [
    "mode_value_ring = df[\"ring-type\"].mode()[0]\n",
    "df[\"ring-type\"].fillna(mode_value_ring, inplace=True)\n",
    "\n",
    "mode_value_ring = test[\"ring-type\"].mode()[0]\n",
    "test[\"ring-type\"].fillna(mode_value_ring, inplace=True)"
   ]
  },
  {
   "cell_type": "code",
   "execution_count": 17,
   "metadata": {},
   "outputs": [
    {
     "data": {
      "text/plain": [
       "cap-diameter                0\n",
       "cap-shape                   0\n",
       "cap-surface                 0\n",
       "cap-color                   0\n",
       "does-bruise-or-bleed        0\n",
       "gill-attachment             0\n",
       "gill-spacing            18707\n",
       "gill-color                  0\n",
       "stem-height                 0\n",
       "stem-width                  0\n",
       "stem-root               38588\n",
       "stem-surface            28590\n",
       "stem-color                  0\n",
       "veil-type               43412\n",
       "veil-color              40251\n",
       "has-ring                    0\n",
       "ring-type                   0\n",
       "spore-print-color       40991\n",
       "habitat                     0\n",
       "season                      0\n",
       "class                       0\n",
       "dtype: int64"
      ]
     },
     "execution_count": 17,
     "metadata": {},
     "output_type": "execute_result"
    }
   ],
   "source": [
    "df.isnull().sum()"
   ]
  },
  {
   "cell_type": "code",
   "execution_count": 18,
   "metadata": {},
   "outputs": [
    {
     "name": "stdout",
     "output_type": "stream",
     "text": [
      "class\n",
      "p    25416\n",
      "e    20385\n",
      "Name: count, dtype: int64\n"
     ]
    },
    {
     "data": {
      "image/png": "[encoded data removed]",
      "text/plain": [
       "<Figure size 600x400 with 1 Axes>"
      ]
     },
     "metadata": {},
     "output_type": "display_data"
    },
    {
     "data": {
      "image/png": "[encoded data removed]",
      "text/plain": [
       "<Figure size 800x600 with 1 Axes>"
      ]
     },
     "metadata": {},
     "output_type": "display_data"
    },
    {
     "data": {
      "image/png": "[encoded data removed]",
      "text/plain": [
       "<Figure size 800x600 with 1 Axes>"
      ]
     },
     "metadata": {},
     "output_type": "display_data"
    }
   ],
   "source": [
    "# Check the balance of the target variable 'class' (edible vs. poisonous)\n",
    "class_counts = df[\"class\"].value_counts()\n",
    "print(class_counts)\n",
    "\n",
    "# Plot the class balance\n",
    "plt.figure(figsize=(6, 4))\n",
    "sns.countplot(x=\"class\", data=df, palette=\"Set2\")\n",
    "plt.title(\"Class Distribution (Edible vs. Poisonous)\")\n",
    "plt.show()\n",
    "\n",
    "# Plot distribution of a nominal feature, e.g., cap-shape\n",
    "plt.figure(figsize=(8, 6))\n",
    "sns.countplot(x=\"cap-shape\", data=df, palette=\"Set2\")\n",
    "plt.title(\"Cap Shape Distribution\")\n",
    "plt.show()\n",
    "\n",
    "# Plot distribution of a numerical feature, e.g., cap-diameter\n",
    "plt.figure(figsize=(8, 6))\n",
    "sns.histplot(df[\"cap-diameter\"], bins=30, kde=True)\n",
    "plt.title(\"Cap Diameter Distribution\")\n",
    "plt.show()"
   ]
  },
  {
   "cell_type": "code",
   "execution_count": 19,
   "metadata": {},
   "outputs": [
    {
     "data": {
      "image/png": "[encoded data removed]",
      "text/plain": [
       "<Figure size 800x600 with 2 Axes>"
      ]
     },
     "metadata": {},
     "output_type": "display_data"
    }
   ],
   "source": [
    "# Correlation matrix for numerical features\n",
    "corr_matrix = df[[\"cap-diameter\", \"stem-height\", \"stem-width\"]].corr()\n",
    "\n",
    "# Heatmap of the correlation matrix\n",
    "plt.figure(figsize=(8, 6))\n",
    "sns.heatmap(corr_matrix, annot=True, cmap=\"coolwarm\")\n",
    "plt.title(\"Correlation Matrix\")\n",
    "plt.show()"
   ]
  },
  {
   "cell_type": "markdown",
   "metadata": {},
   "source": [
    "encode categorical data"
   ]
  },
  {
   "cell_type": "code",
   "execution_count": 20,
   "metadata": {},
   "outputs": [
    {
     "name": "stdout",
     "output_type": "stream",
     "text": [
      "   cap-diameter does-bruise-or-bleed gill-spacing  stem-height  stem-width  \\\n",
      "0          7.44                    f            d         5.35       16.80   \n",
      "1          3.92                    f          NaN         5.76        3.55   \n",
      "2          4.63                    f            f         2.76        8.48   \n",
      "3          5.67                    f            c         6.29        7.44   \n",
      "4          1.33                    f          NaN         4.44        1.48   \n",
      "\n",
      "  stem-root stem-surface veil-type veil-color has-ring  ... habitat_h  \\\n",
      "0         b          NaN       NaN        NaN        f  ...     False   \n",
      "1       NaN            y       NaN        NaN        t  ...      True   \n",
      "2       NaN          NaN       NaN        NaN        f  ...     False   \n",
      "3       NaN          NaN       NaN        NaN        f  ...     False   \n",
      "4       NaN            s       NaN        NaN        f  ...     False   \n",
      "\n",
      "  habitat_l  habitat_m  habitat_p  habitat_u  habitat_w  season_a  season_s  \\\n",
      "0     False      False      False      False      False     False     False   \n",
      "1     False      False      False      False      False      True     False   \n",
      "2     False      False      False      False      False      True     False   \n",
      "3     False      False      False      False      False     False     False   \n",
      "4     False      False      False      False      False      True     False   \n",
      "\n",
      "   season_u  season_w  \n",
      "0      True     False  \n",
      "1     False     False  \n",
      "2     False     False  \n",
      "3      True     False  \n",
      "4     False     False  \n",
      "\n",
      "[5 rows x 94 columns]\n",
      "   cap-diameter does-bruise-or-bleed gill-spacing  stem-height  stem-width  \\\n",
      "0          4.13                    f            d         5.15        2.99   \n",
      "1          0.72                    f          NaN         3.86        0.81   \n",
      "2          8.03                    t            c         5.27       17.30   \n",
      "3          9.67                    f            c         2.64       14.10   \n",
      "4          1.43                    f            d         2.53        2.68   \n",
      "\n",
      "  stem-root stem-surface veil-type veil-color has-ring  ... habitat_h  \\\n",
      "0       NaN            s       NaN        NaN        f  ...     False   \n",
      "1       NaN          NaN       NaN        NaN        f  ...     False   \n",
      "2       NaN          NaN       NaN        NaN        f  ...     False   \n",
      "3       NaN          NaN       NaN        NaN        f  ...     False   \n",
      "4       NaN            s       NaN        NaN        f  ...     False   \n",
      "\n",
      "   habitat_l  habitat_m  habitat_p  habitat_u  habitat_w  season_a  season_s  \\\n",
      "0      False      False      False      False      False      True     False   \n",
      "1      False      False      False      False      False     False     False   \n",
      "2      False      False      False      False      False     False     False   \n",
      "3      False      False      False      False      False      True     False   \n",
      "4      False      False      False      False      False      True     False   \n",
      "\n",
      "   season_u  season_w  \n",
      "0     False     False  \n",
      "1      True     False  \n",
      "2      True     False  \n",
      "3     False     False  \n",
      "4     False     False  \n",
      "\n",
      "[5 rows x 93 columns]\n"
     ]
    }
   ],
   "source": [
    "# Convert nominal (categorical) features to numerical values using One-Hot Encoding\n",
    "df_encoded = pd.get_dummies(\n",
    "    df,\n",
    "    columns=[\n",
    "        \"cap-shape\",\n",
    "        \"cap-surface\",\n",
    "        \"cap-color\",\n",
    "        \"gill-attachment\",\n",
    "        \"gill-color\",\n",
    "        \"stem-color\",\n",
    "        \"ring-type\",\n",
    "        \"habitat\",\n",
    "        \"season\",\n",
    "    ],\n",
    ")\n",
    "\n",
    "# Display the first few rows of the encoded dataframe\n",
    "print(df_encoded.head())\n",
    "\n",
    "test_encoded = pd.get_dummies(\n",
    "    test,\n",
    "    columns=[\n",
    "        \"cap-shape\",\n",
    "        \"cap-surface\",\n",
    "        \"cap-color\",\n",
    "        \"gill-attachment\",\n",
    "        \"gill-color\",\n",
    "        \"stem-color\",\n",
    "        \"ring-type\",\n",
    "        \"habitat\",\n",
    "        \"season\",\n",
    "    ],\n",
    ")\n",
    "\n",
    "# Display the first few rows of the encoded dataframe\n",
    "print(test_encoded.head())"
   ]
  },
  {
   "cell_type": "code",
   "execution_count": 21,
   "metadata": {},
   "outputs": [],
   "source": [
    "label_encoder = LabelEncoder()\n",
    "for column in test.columns:\n",
    "    test[column] = label_encoder.fit_transform(test[column])\n",
    "\n",
    "label_encoder = LabelEncoder()\n",
    "for column in df.columns:\n",
    "    df[column] = label_encoder.fit_transform(df[column])"
   ]
  },
  {
   "cell_type": "code",
   "execution_count": 22,
   "metadata": {},
   "outputs": [
    {
     "name": "stdout",
     "output_type": "stream",
     "text": [
      "Training set shape: (32060, 20)\n",
      "Test set shape: (13741, 20)\n"
     ]
    }
   ],
   "source": [
    "X = df.drop('class', axis=1)  # Features (drop the target column)\n",
    "y = df['class']  # Target variable ('class')\n",
    "X_train, X_test, y_train, y_test = train_test_split(X, y, test_size=0.3, random_state=42)\n",
    "\n",
    "print(f'Training set shape: {X_train.shape}')\n",
    "print(f'Test set shape: {X_test.shape}')"
   ]
  },
  {
   "cell_type": "code",
   "execution_count": 23,
   "metadata": {},
   "outputs": [
    {
     "data": {
      "text/html": [
       "<div>\n",
       "<style scoped>\n",
       "    .dataframe tbody tr th:only-of-type {\n",
       "        vertical-align: middle;\n",
       "    }\n",
       "\n",
       "    .dataframe tbody tr th {\n",
       "        vertical-align: top;\n",
       "    }\n",
       "\n",
       "    .dataframe thead th {\n",
       "        text-align: right;\n",
       "    }\n",
       "</style>\n",
       "<table border=\"1\" class=\"dataframe\">\n",
       "  <thead>\n",
       "    <tr style=\"text-align: right;\">\n",
       "      <th></th>\n",
       "      <th>cap-diameter</th>\n",
       "      <th>cap-shape</th>\n",
       "      <th>cap-surface</th>\n",
       "      <th>cap-color</th>\n",
       "      <th>does-bruise-or-bleed</th>\n",
       "      <th>gill-attachment</th>\n",
       "      <th>gill-spacing</th>\n",
       "      <th>gill-color</th>\n",
       "      <th>stem-height</th>\n",
       "      <th>stem-width</th>\n",
       "      <th>...</th>\n",
       "      <th>stem-surface</th>\n",
       "      <th>stem-color</th>\n",
       "      <th>veil-type</th>\n",
       "      <th>veil-color</th>\n",
       "      <th>has-ring</th>\n",
       "      <th>ring-type</th>\n",
       "      <th>spore-print-color</th>\n",
       "      <th>habitat</th>\n",
       "      <th>season</th>\n",
       "      <th>class</th>\n",
       "    </tr>\n",
       "  </thead>\n",
       "  <tbody>\n",
       "    <tr>\n",
       "      <th>0</th>\n",
       "      <td>699</td>\n",
       "      <td>2</td>\n",
       "      <td>3</td>\n",
       "      <td>1</td>\n",
       "      <td>0</td>\n",
       "      <td>6</td>\n",
       "      <td>1</td>\n",
       "      <td>10</td>\n",
       "      <td>424</td>\n",
       "      <td>1626</td>\n",
       "      <td>...</td>\n",
       "      <td>8</td>\n",
       "      <td>11</td>\n",
       "      <td>1</td>\n",
       "      <td>6</td>\n",
       "      <td>0</td>\n",
       "      <td>1</td>\n",
       "      <td>7</td>\n",
       "      <td>0</td>\n",
       "      <td>2</td>\n",
       "      <td>1</td>\n",
       "    </tr>\n",
       "    <tr>\n",
       "      <th>1</th>\n",
       "      <td>347</td>\n",
       "      <td>6</td>\n",
       "      <td>10</td>\n",
       "      <td>11</td>\n",
       "      <td>0</td>\n",
       "      <td>0</td>\n",
       "      <td>3</td>\n",
       "      <td>10</td>\n",
       "      <td>465</td>\n",
       "      <td>301</td>\n",
       "      <td>...</td>\n",
       "      <td>7</td>\n",
       "      <td>12</td>\n",
       "      <td>1</td>\n",
       "      <td>6</td>\n",
       "      <td>1</td>\n",
       "      <td>6</td>\n",
       "      <td>7</td>\n",
       "      <td>2</td>\n",
       "      <td>0</td>\n",
       "      <td>1</td>\n",
       "    </tr>\n",
       "    <tr>\n",
       "      <th>2</th>\n",
       "      <td>418</td>\n",
       "      <td>6</td>\n",
       "      <td>9</td>\n",
       "      <td>11</td>\n",
       "      <td>0</td>\n",
       "      <td>3</td>\n",
       "      <td>2</td>\n",
       "      <td>2</td>\n",
       "      <td>165</td>\n",
       "      <td>794</td>\n",
       "      <td>...</td>\n",
       "      <td>8</td>\n",
       "      <td>12</td>\n",
       "      <td>1</td>\n",
       "      <td>6</td>\n",
       "      <td>0</td>\n",
       "      <td>1</td>\n",
       "      <td>7</td>\n",
       "      <td>0</td>\n",
       "      <td>0</td>\n",
       "      <td>0</td>\n",
       "    </tr>\n",
       "    <tr>\n",
       "      <th>3</th>\n",
       "      <td>522</td>\n",
       "      <td>1</td>\n",
       "      <td>4</td>\n",
       "      <td>11</td>\n",
       "      <td>0</td>\n",
       "      <td>0</td>\n",
       "      <td>0</td>\n",
       "      <td>8</td>\n",
       "      <td>518</td>\n",
       "      <td>690</td>\n",
       "      <td>...</td>\n",
       "      <td>8</td>\n",
       "      <td>11</td>\n",
       "      <td>1</td>\n",
       "      <td>6</td>\n",
       "      <td>0</td>\n",
       "      <td>1</td>\n",
       "      <td>7</td>\n",
       "      <td>0</td>\n",
       "      <td>2</td>\n",
       "      <td>1</td>\n",
       "    </tr>\n",
       "    <tr>\n",
       "      <th>4</th>\n",
       "      <td>88</td>\n",
       "      <td>0</td>\n",
       "      <td>8</td>\n",
       "      <td>5</td>\n",
       "      <td>0</td>\n",
       "      <td>0</td>\n",
       "      <td>3</td>\n",
       "      <td>3</td>\n",
       "      <td>333</td>\n",
       "      <td>94</td>\n",
       "      <td>...</td>\n",
       "      <td>5</td>\n",
       "      <td>6</td>\n",
       "      <td>1</td>\n",
       "      <td>6</td>\n",
       "      <td>0</td>\n",
       "      <td>1</td>\n",
       "      <td>7</td>\n",
       "      <td>0</td>\n",
       "      <td>0</td>\n",
       "      <td>1</td>\n",
       "    </tr>\n",
       "  </tbody>\n",
       "</table>\n",
       "<p>5 rows × 21 columns</p>\n",
       "</div>"
      ],
      "text/plain": [
       "   cap-diameter  cap-shape  cap-surface  cap-color  does-bruise-or-bleed  \\\n",
       "0           699          2            3          1                     0   \n",
       "1           347          6           10         11                     0   \n",
       "2           418          6            9         11                     0   \n",
       "3           522          1            4         11                     0   \n",
       "4            88          0            8          5                     0   \n",
       "\n",
       "   gill-attachment  gill-spacing  gill-color  stem-height  stem-width  ...  \\\n",
       "0                6             1          10          424        1626  ...   \n",
       "1                0             3          10          465         301  ...   \n",
       "2                3             2           2          165         794  ...   \n",
       "3                0             0           8          518         690  ...   \n",
       "4                0             3           3          333          94  ...   \n",
       "\n",
       "   stem-surface  stem-color  veil-type  veil-color  has-ring  ring-type  \\\n",
       "0             8          11          1           6         0          1   \n",
       "1             7          12          1           6         1          6   \n",
       "2             8          12          1           6         0          1   \n",
       "3             8          11          1           6         0          1   \n",
       "4             5           6          1           6         0          1   \n",
       "\n",
       "   spore-print-color  habitat  season  class  \n",
       "0                  7        0       2      1  \n",
       "1                  7        2       0      1  \n",
       "2                  7        0       0      0  \n",
       "3                  7        0       2      1  \n",
       "4                  7        0       0      1  \n",
       "\n",
       "[5 rows x 21 columns]"
      ]
     },
     "execution_count": 23,
     "metadata": {},
     "output_type": "execute_result"
    }
   ],
   "source": [
    "df.head()"
   ]
  },
  {
   "cell_type": "code",
   "execution_count": 24,
   "metadata": {},
   "outputs": [
    {
     "name": "stdout",
     "output_type": "stream",
     "text": [
      "***** Logistic Regression *****\n",
      "              precision    recall  f1-score   support\n",
      "\n",
      "           0       0.56      0.46      0.51      6131\n",
      "           1       0.62      0.71      0.66      7610\n",
      "\n",
      "    accuracy                           0.60     13741\n",
      "   macro avg       0.59      0.59      0.59     13741\n",
      "weighted avg       0.60      0.60      0.59     13741\n",
      "\n"
     ]
    },
    {
     "name": "stderr",
     "output_type": "stream",
     "text": [
      "C:\\Users\\Moatsem\\AppData\\Local\\Packages\\PythonSoftwareFoundation.Python.3.11_qbz5n2kfra8p0\\LocalCache\\local-packages\\Python311\\site-packages\\sklearn\\linear_model\\_logistic.py:469: ConvergenceWarning: lbfgs failed to converge (status=1):\n",
      "STOP: TOTAL NO. of ITERATIONS REACHED LIMIT.\n",
      "\n",
      "Increase the number of iterations (max_iter) or scale the data as shown in:\n",
      "    https://scikit-learn.org/stable/modules/preprocessing.html\n",
      "Please also refer to the documentation for alternative solver options:\n",
      "    https://scikit-learn.org/stable/modules/linear_model.html#logistic-regression\n",
      "  n_iter_i = _check_optimize_result(\n"
     ]
    }
   ],
   "source": [
    "\n",
    "logistic_classifier_model = LogisticRegression()\n",
    "logistic_classifier_model.fit(X_train, y_train)\n",
    "logistic_pred = logistic_classifier_model.predict(X_test)\n",
    "logistic_report = classification_report(y_test, logistic_pred)\n",
    "\n",
    "print(\"***** Logistic Regression *****\")\n",
    "print(logistic_report)"
   ]
  },
  {
   "cell_type": "code",
   "execution_count": 25,
   "metadata": {},
   "outputs": [
    {
     "name": "stdout",
     "output_type": "stream",
     "text": [
      "***** Decision Tree *****\n",
      "              precision    recall  f1-score   support\n",
      "\n",
      "           0       1.00      1.00      1.00      6131\n",
      "           1       1.00      1.00      1.00      7610\n",
      "\n",
      "    accuracy                           1.00     13741\n",
      "   macro avg       1.00      1.00      1.00     13741\n",
      "weighted avg       1.00      1.00      1.00     13741\n",
      "\n"
     ]
    }
   ],
   "source": [
    "decision_tree_model =DecisionTreeClassifier()\n",
    "decision_tree_model.fit(X_train, y_train)\n",
    "tree_pred = decision_tree_model.predict(X_test)\n",
    "tree_report = classification_report(y_test, tree_pred)\n",
    "\n",
    "print(\"***** Decision Tree *****\")\n",
    "print(tree_report)"
   ]
  },
  {
   "cell_type": "code",
   "execution_count": 26,
   "metadata": {},
   "outputs": [
    {
     "name": "stdout",
     "output_type": "stream",
     "text": [
      "***** Naive Regression *****\n",
      "              precision    recall  f1-score   support\n",
      "\n",
      "           0       0.53      0.76      0.62      6131\n",
      "           1       0.70      0.45      0.55      7610\n",
      "\n",
      "    accuracy                           0.59     13741\n",
      "   macro avg       0.61      0.61      0.59     13741\n",
      "weighted avg       0.62      0.59      0.58     13741\n",
      "\n"
     ]
    }
   ],
   "source": [
    "naive_bayes_model = GaussianNB()\n",
    "naive_bayes_model.fit(X_train, y_train)\n",
    "naive_bayes_pred = naive_bayes_model.predict(X_test)\n",
    "naive_bayes_report = classification_report(y_test, naive_bayes_pred)\n",
    "\n",
    "print(\"***** Naive Regression *****\")\n",
    "print(naive_bayes_report)"
   ]
  },
  {
   "cell_type": "code",
   "execution_count": 27,
   "metadata": {},
   "outputs": [
    {
     "name": "stdout",
     "output_type": "stream",
     "text": [
      "***** Random Forest *****\n",
      "              precision    recall  f1-score   support\n",
      "\n",
      "           0       1.00      1.00      1.00      6131\n",
      "           1       1.00      1.00      1.00      7610\n",
      "\n",
      "    accuracy                           1.00     13741\n",
      "   macro avg       1.00      1.00      1.00     13741\n",
      "weighted avg       1.00      1.00      1.00     13741\n",
      "\n"
     ]
    }
   ],
   "source": [
    "random_forest_model = RandomForestClassifier(criterion=\"gini\", random_state=42)\n",
    "random_forest_model.fit(X_train, y_train)\n",
    "random_forest_pred = random_forest_model.predict(X_test)\n",
    "random_forest_report = classification_report(y_test, random_forest_pred)\n",
    "\n",
    "print(\"***** Random Forest *****\")\n",
    "print(random_forest_report)"
   ]
  },
  {
   "cell_type": "code",
   "execution_count": 28,
   "metadata": {},
   "outputs": [
    {
     "name": "stdout",
     "output_type": "stream",
     "text": [
      "***** KNeighborsClassifier *****\n",
      "              precision    recall  f1-score   support\n",
      "\n",
      "           0       0.79      0.79      0.79      6131\n",
      "           1       0.83      0.83      0.83      7610\n",
      "\n",
      "    accuracy                           0.81     13741\n",
      "   macro avg       0.81      0.81      0.81     13741\n",
      "weighted avg       0.81      0.81      0.81     13741\n",
      "\n"
     ]
    }
   ],
   "source": [
    "knn_model = KNeighborsClassifier(n_neighbors=5, p=2, metric='minkowski')\n",
    "knn_model.fit(X_train, y_train)\n",
    "knn_pred = knn_model.predict(X_test)\n",
    "knn_report = classification_report(y_test, knn_pred)\n",
    "\n",
    "print(\"***** KNeighborsClassifier *****\")\n",
    "print(knn_report)"
   ]
  },
  {
   "cell_type": "code",
   "execution_count": 29,
   "metadata": {},
   "outputs": [
    {
     "name": "stdout",
     "output_type": "stream",
     "text": [
      "***** XGboost Classifier *****\n",
      "              precision    recall  f1-score   support\n",
      "\n",
      "           0       1.00      1.00      1.00      6131\n",
      "           1       1.00      1.00      1.00      7610\n",
      "\n",
      "    accuracy                           1.00     13741\n",
      "   macro avg       1.00      1.00      1.00     13741\n",
      "weighted avg       1.00      1.00      1.00     13741\n",
      "\n"
     ]
    }
   ],
   "source": [
    "\n",
    "xgboost_model = xgb.XGBClassifier()\n",
    "xgboost_model.fit(X_train, y_train)\n",
    "xgboost_pred = xgboost_model.predict(X_test)\n",
    "xgboost_report = classification_report(y_test, xgboost_pred)\n",
    "\n",
    "print(\"***** XGboost Classifier *****\")\n",
    "print(xgboost_report)"
   ]
  },
  {
   "cell_type": "code",
   "execution_count": 30,
   "metadata": {},
   "outputs": [
    {
     "name": "stdout",
     "output_type": "stream",
     "text": [
      "Submission file created: submission.csv\n"
     ]
    }
   ],
   "source": [
    "random_forest_pred = random_forest_model.predict(test)\n",
    "submission_df = pd.DataFrame({\n",
    "    'ID': test.index,\n",
    "    'class': random_forest_pred\n",
    "})\n",
    "\n",
    "# Map the binary predictions to 'e' and 'p'\n",
    "submission_df['class'] = np.where(submission_df['class'] == 1, 'p', 'e')\n",
    "\n",
    "# Save the submission DataFrame to a CSV file\n",
    "submission_df.to_csv('Submission.csv')\n",
    "print(\"Submission file created: submission.csv\")"
   ]
  }
 ],
 "metadata": {
  "kernelspec": {
   "display_name": "Python 3",
   "language": "python",
   "name": "python3"
  },
  "language_info": {
   "codemirror_mode": {
    "name": "ipython",
    "version": 3
   },
   "file_extension": ".py",
   "mimetype": "text/x-python",
   "name": "python",
   "nbconvert_exporter": "python",
   "pygments_lexer": "ipython3",
   "version": "3.11.9"
  }
 },
 "nbformat": 4,
 "nbformat_minor": 2
}
